{
 "cells": [
  {
   "cell_type": "code",
   "execution_count": 10,
   "id": "5ab5c3cc-11ae-4831-a261-d5f44e3561a6",
   "metadata": {},
   "outputs": [],
   "source": [
    "# import all the libraries\n",
    "import pandas as pd\n",
    "import os\n",
    "import sys"
   ]
  },
  {
   "cell_type": "code",
   "execution_count": 2,
   "id": "b734a32d-7abf-465f-a369-4b68710c2fef",
   "metadata": {},
   "outputs": [],
   "source": [
    "# read hash file workspace-network\n",
    "df_hashtable = pd.read_csv('workspaces.csv', index_col=0)\n",
    "\n",
    "# read the excel\n",
    "df_workspaces = pd.read_excel('./requests/dws_squid.xlsx', index_col=0, keep_default_na=False)"
   ]
  },
  {
   "cell_type": "code",
   "execution_count": 3,
   "id": "0d0a7749-ea5b-475c-ac3c-3d19445b2e2f",
   "metadata": {},
   "outputs": [],
   "source": [
    "# functions to process the data\n",
    "\n",
    "def ws_exist(workspace):\n",
    "    try:\n",
    "        network = df_hashtable.loc[workspace]['network']\n",
    "        return True\n",
    "    except:\n",
    "        return False\n",
    "    \n",
    "\n",
    "def create_conf(workspace):\n",
    "    network = df_hashtable.loc[workspace]['network']\n",
    "    return '''# /etc/squid/extra.d is the share\n",
    "    # whitelist.conf is the file on the share\n",
    "    acl domains_''' + workspace +''' dstdomain \"/etc/squid/extra.d/''' + workspace + '''.domains.acl\"\n",
    "    \n",
    "    # Sets the source networking subnet for the workspace rule\n",
    "    acl workspace_''' + workspace + ''' src ''' + network + '''\n",
    "    \n",
    "    # Allow the workspace network to access domains from workspacelist\n",
    "    http_access allow workspace_''' + workspace + ''' domains_''' + workspace\n",
    "\n",
    "def create_acl(workspace):\n",
    "    lst = []\n",
    "    for value, domain in zip(df_workspaces.loc[workspace], df_workspaces.loc[workspace].index):\n",
    "        if value.lower() == 'x':\n",
    "            lst.append(domain)\n",
    "    return '\\n'.join(lst)\n",
    "\n",
    "def save_file(filename, content):\n",
    "    with open('./output/' + filename, 'w') as f:\n",
    "        f.write(content)"
   ]
  },
  {
   "cell_type": "code",
   "execution_count": 9,
   "id": "b1d353fa-46c4-4dc7-bac2-e3d2e0e5cd65",
   "metadata": {},
   "outputs": [
    {
     "name": "stdout",
     "output_type": "stream",
     "text": [
      "==================================================\n",
      "Processing:\n",
      "--------------------------------------------------\n",
      "\n",
      "dws004test004 does not exist in the hash table\n",
      "\n",
      "--------------------------------------------------\n",
      "Finished, files are created in .\\output\n",
      "==================================================\n"
     ]
    }
   ],
   "source": [
    "# create output if it doesn't exist\n",
    "try:\n",
    "    os.mkdir('./output')\n",
    "except:\n",
    "    pass\n",
    "    \n",
    "\n",
    "# process the excel\n",
    "n=50\n",
    "print('='*n)\n",
    "print(f'Processing:')\n",
    "print('-'*n+'\\n')\n",
    "for ws in df_workspaces.index:\n",
    "    if ws_exist(ws):\n",
    "        save_file(ws+'.conf', create_conf(ws))\n",
    "        save_file(ws+'.domains.acl', create_acl(ws))\n",
    "    else:\n",
    "        print(f'{ws} does not exist in the hash table')\n",
    "print('\\n' + '-'*n)\n",
    "print(f'Finished, files are created in .\\output')\n",
    "print('='*n)"
   ]
  },
  {
   "cell_type": "code",
   "execution_count": null,
   "id": "a5b5d0a2-0853-412b-a1ba-3a86980775b0",
   "metadata": {},
   "outputs": [],
   "source": []
  }
 ],
 "metadata": {
  "kernelspec": {
   "display_name": "Python 3",
   "language": "python",
   "name": "python3"
  },
  "language_info": {
   "codemirror_mode": {
    "name": "ipython",
    "version": 3
   },
   "file_extension": ".py",
   "mimetype": "text/x-python",
   "name": "python",
   "nbconvert_exporter": "python",
   "pygments_lexer": "ipython3",
   "version": "3.10.4"
  }
 },
 "nbformat": 4,
 "nbformat_minor": 5
}
